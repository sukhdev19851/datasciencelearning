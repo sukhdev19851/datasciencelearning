{
 "cells": [
  {
   "cell_type": "code",
   "execution_count": 1,
   "id": "7ef8311b-27ca-4669-8ecb-e05f9406d9bd",
   "metadata": {},
   "outputs": [],
   "source": [
    "# Importing necessary libraries\n",
    "import pandas as pd\n",
    "from sklearn.model_selection import train_test_split\n",
    "from sklearn.linear_model import LinearRegression\n",
    "from sklearn.metrics import mean_squared_error"
   ]
  },
  {
   "cell_type": "code",
   "execution_count": 2,
   "id": "4fafabb4-023d-4dea-a9d1-b1074261b9fe",
   "metadata": {},
   "outputs": [],
   "source": [
    "# Load data from CSV file\n",
    "data = pd.read_csv(\"car price prediction.csv\")  # Replace \"car_data.csv\" with your CSV file path"
   ]
  },
  {
   "cell_type": "code",
   "execution_count": 3,
   "id": "79a4607f-491b-4e34-b4eb-1e3bd1a84454",
   "metadata": {},
   "outputs": [
    {
     "data": {
      "text/plain": [
       "<bound method DataFrame.info of     Year      Km  Price\n",
       "0   2018   60000    111\n",
       "1   2018   60000    110\n",
       "2   2019   95000    117\n",
       "3   2018   75000    105\n",
       "4   2018   55000    112\n",
       "5   2019   70000    114\n",
       "6   2018   95000    118\n",
       "7   2018   90000    114\n",
       "8   2019   80000    120\n",
       "9   2019   50000    132\n",
       "10  2019   70000    140\n",
       "11  2019   70000    140\n",
       "12  2018   60000    111\n",
       "13  2018  110000    124\n",
       "14  2019   50000    125\n",
       "15  2019  120000    109\n",
       "16  2018   60000    111\n",
       "17  2018   55000    110\n",
       "18  2018   75000    111\n",
       "19  2019   50000    137\n",
       "20  2019   95000    117\n",
       "21  2018   65000    128\n",
       "22  2018   55000    110\n",
       "23  2018  300000     99\n",
       "24  2018   35000    105\n",
       "25  2018   65000    121\n",
       "26  2018   90000    111\n",
       "27  2019   95000    117\n",
       "28  2018   65000    111\n",
       "29  2018   70000    105\n",
       "30  2019   50000    125\n",
       "31  2019   50000    125\n",
       "32  2018   60000    111\n",
       "33  2018   75000    111\n",
       "34  2019   50000    137\n",
       "35  2019   95000    117\n",
       "36  2018  300000     99\n",
       "37  2018  300000     99\n",
       "38  2018   35000    105>"
      ]
     },
     "execution_count": 3,
     "metadata": {},
     "output_type": "execute_result"
    }
   ],
   "source": [
    "data.info"
   ]
  },
  {
   "cell_type": "code",
   "execution_count": 5,
   "id": "82cb0ffa-9e58-4cd5-b827-d7d762403bbf",
   "metadata": {},
   "outputs": [],
   "source": [
    "# Separating features and target variable\n",
    "X = data[['Year', 'Km']]\n",
    "y = data['Price']"
   ]
  },
  {
   "cell_type": "code",
   "execution_count": 6,
   "id": "194ff65e-b085-49b8-a800-0da98e92e439",
   "metadata": {},
   "outputs": [],
   "source": [
    "# Splitting the dataset into training and testing sets\n",
    "X_train, X_test, y_train, y_test = train_test_split(X, y, test_size=0.2, random_state=42)"
   ]
  },
  {
   "cell_type": "code",
   "execution_count": 7,
   "id": "a2649170-b94f-4423-a38e-2b31c904bb2a",
   "metadata": {},
   "outputs": [
    {
     "name": "stdout",
     "output_type": "stream",
     "text": [
      "Mean Squared Error: 46.855710099693916\n"
     ]
    }
   ],
   "source": [
    "# Initializing and fitting the model\n",
    "model = LinearRegression()\n",
    "model.fit(X_train, y_train)\n",
    "\n",
    "# Predicting on the test set\n",
    "y_pred = model.predict(X_test)\n",
    "\n",
    "# Evaluating the model\n",
    "mse = mean_squared_error(y_test, y_pred)\n",
    "print(\"Mean Squared Error:\", mse)"
   ]
  },
  {
   "cell_type": "code",
   "execution_count": 8,
   "id": "72ae3ce2-39a4-440e-bb92-c02f227c0ab3",
   "metadata": {},
   "outputs": [
    {
     "name": "stdout",
     "output_type": "stream",
     "text": [
      "Predicted Price for the new car: 143.88513556078033\n"
     ]
    }
   ],
   "source": [
    "# Predicting the price for a new car\n",
    "new_car = pd.DataFrame([[2020, 10000]], columns=['Year', 'Km'])\n",
    "predicted_price = model.predict(new_car)\n",
    "print(\"Predicted Price for the new car:\", predicted_price[0])"
   ]
  },
  {
   "cell_type": "code",
   "execution_count": 11,
   "id": "a066f5e6-89b4-42a6-b2b2-469475dc313d",
   "metadata": {},
   "outputs": [
    {
     "name": "stdout",
     "output_type": "stream",
     "text": [
      "Predicted Price for the new car: 123.99454558670186\n"
     ]
    }
   ],
   "source": [
    "# Predicting the price for a new car\n",
    "new_car = pd.DataFrame([[2019, 95000]], columns=['Year', 'Km'])\n",
    "predicted_price = model.predict(new_car)\n",
    "print(\"Predicted Price for the new car:\", predicted_price[0])"
   ]
  },
  {
   "cell_type": "code",
   "execution_count": 12,
   "id": "d8efd4e0-83b6-47c9-a582-7cb674b0421b",
   "metadata": {},
   "outputs": [
    {
     "name": "stdout",
     "output_type": "stream",
     "text": [
      "Predicted Price for the new car: 110.64687035107636\n"
     ]
    }
   ],
   "source": [
    "# Predicting the price for a new car\n",
    "new_car = pd.DataFrame([[2018, 75000]], columns=['Year', 'Km'])\n",
    "predicted_price = model.predict(new_car)\n",
    "print(\"Predicted Price for the new car:\", predicted_price[0])"
   ]
  },
  {
   "cell_type": "code",
   "execution_count": 13,
   "id": "3ede4e7e-72ff-4670-a11d-9d244b87d3b0",
   "metadata": {},
   "outputs": [
    {
     "name": "stdout",
     "output_type": "stream",
     "text": [
      "Predicted Price for the new car: 112.51627456206188\n"
     ]
    }
   ],
   "source": [
    "# Predicting the price for a new car\n",
    "new_car = pd.DataFrame([[2018, 45000]], columns=['Year', 'Km'])\n",
    "predicted_price = model.predict(new_car)\n",
    "print(\"Predicted Price for the new car:\", predicted_price[0])"
   ]
  },
  {
   "cell_type": "code",
   "execution_count": null,
   "id": "52a10d27-1219-4e1a-b5c0-c42aa47dec2f",
   "metadata": {},
   "outputs": [],
   "source": []
  }
 ],
 "metadata": {
  "kernelspec": {
   "display_name": "Python 3 (ipykernel)",
   "language": "python",
   "name": "python3"
  },
  "language_info": {
   "codemirror_mode": {
    "name": "ipython",
    "version": 3
   },
   "file_extension": ".py",
   "mimetype": "text/x-python",
   "name": "python",
   "nbconvert_exporter": "python",
   "pygments_lexer": "ipython3",
   "version": "3.11.5"
  }
 },
 "nbformat": 4,
 "nbformat_minor": 5
}
